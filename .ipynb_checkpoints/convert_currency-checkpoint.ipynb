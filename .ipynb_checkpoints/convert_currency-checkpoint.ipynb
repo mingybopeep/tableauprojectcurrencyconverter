{
 "cells": [
  {
   "cell_type": "code",
   "execution_count": 52,
   "metadata": {},
   "outputs": [
    {
     "data": {
      "text/html": [
       "<div>\n",
       "<style scoped>\n",
       "    .dataframe tbody tr th:only-of-type {\n",
       "        vertical-align: middle;\n",
       "    }\n",
       "\n",
       "    .dataframe tbody tr th {\n",
       "        vertical-align: top;\n",
       "    }\n",
       "\n",
       "    .dataframe thead th {\n",
       "        text-align: right;\n",
       "    }\n",
       "</style>\n",
       "<table border=\"1\" class=\"dataframe\">\n",
       "  <thead>\n",
       "    <tr style=\"text-align: right;\">\n",
       "      <th></th>\n",
       "      <th>product_code</th>\n",
       "      <th>customer_code</th>\n",
       "      <th>market_code</th>\n",
       "      <th>order_date</th>\n",
       "      <th>sales_qty</th>\n",
       "      <th>sales_amount</th>\n",
       "      <th>currency</th>\n",
       "    </tr>\n",
       "  </thead>\n",
       "  <tbody>\n",
       "    <tr>\n",
       "      <th>0</th>\n",
       "      <td>Prod001</td>\n",
       "      <td>Cus001</td>\n",
       "      <td>Mark001</td>\n",
       "      <td>2017-10-10</td>\n",
       "      <td>100</td>\n",
       "      <td>41241</td>\n",
       "      <td>INR</td>\n",
       "    </tr>\n",
       "    <tr>\n",
       "      <th>1</th>\n",
       "      <td>Prod001</td>\n",
       "      <td>Cus002</td>\n",
       "      <td>Mark002</td>\n",
       "      <td>2018-05-08</td>\n",
       "      <td>3</td>\n",
       "      <td>-1</td>\n",
       "      <td>INR</td>\n",
       "    </tr>\n",
       "    <tr>\n",
       "      <th>2</th>\n",
       "      <td>Prod002</td>\n",
       "      <td>Cus003</td>\n",
       "      <td>Mark003</td>\n",
       "      <td>2018-04-06</td>\n",
       "      <td>1</td>\n",
       "      <td>875</td>\n",
       "      <td>INR</td>\n",
       "    </tr>\n",
       "    <tr>\n",
       "      <th>3</th>\n",
       "      <td>Prod002</td>\n",
       "      <td>Cus003</td>\n",
       "      <td>Mark003</td>\n",
       "      <td>2018-04-11</td>\n",
       "      <td>1</td>\n",
       "      <td>583</td>\n",
       "      <td>INR</td>\n",
       "    </tr>\n",
       "    <tr>\n",
       "      <th>4</th>\n",
       "      <td>Prod002</td>\n",
       "      <td>Cus004</td>\n",
       "      <td>Mark003</td>\n",
       "      <td>2018-06-18</td>\n",
       "      <td>6</td>\n",
       "      <td>7176</td>\n",
       "      <td>INR</td>\n",
       "    </tr>\n",
       "  </tbody>\n",
       "</table>\n",
       "</div>"
      ],
      "text/plain": [
       "  product_code customer_code market_code  order_date  sales_qty  sales_amount  \\\n",
       "0      Prod001        Cus001     Mark001  2017-10-10        100         41241   \n",
       "1      Prod001        Cus002     Mark002  2018-05-08          3            -1   \n",
       "2      Prod002        Cus003     Mark003  2018-04-06          1           875   \n",
       "3      Prod002        Cus003     Mark003  2018-04-11          1           583   \n",
       "4      Prod002        Cus004     Mark003  2018-06-18          6          7176   \n",
       "\n",
       "  currency  \n",
       "0      INR  \n",
       "1      INR  \n",
       "2      INR  \n",
       "3      INR  \n",
       "4      INR  "
      ]
     },
     "execution_count": 52,
     "metadata": {},
     "output_type": "execute_result"
    }
   ],
   "source": [
    "import pandas as pd \n",
    "import requests\n",
    "import json \n",
    "from datetime import datetime, timedelta\n",
    "\n",
    "df = pd.read_csv('transactions.csv')\n",
    "\n",
    "df.head()"
   ]
  },
  {
   "cell_type": "markdown",
   "metadata": {},
   "source": [
    "You can query the ECB exchange rate API like this:"
   ]
  },
  {
   "cell_type": "code",
   "execution_count": 43,
   "metadata": {},
   "outputs": [
    {
     "data": {
      "text/plain": [
       "{'rates': {'2018-01-02': {'INR': 63.4898466639}},\n",
       " 'start_at': '2018-01-01',\n",
       " 'base': 'USD',\n",
       " 'end_at': '2018-01-02'}"
      ]
     },
     "execution_count": 43,
     "metadata": {},
     "output_type": "execute_result"
    }
   ],
   "source": [
    "r = requests.get('https://api.exchangeratesapi.io/history?start_at=2018-01-01&end_at=2018-01-02&symbols=INR&base=USD')\n",
    "\n",
    "js = json.loads(r.text)\n",
    "js"
   ]
  },
  {
   "cell_type": "code",
   "execution_count": 26,
   "metadata": {},
   "outputs": [
    {
     "data": {
      "text/plain": [
       "63.4898466639"
      ]
     },
     "execution_count": 26,
     "metadata": {},
     "output_type": "execute_result"
    }
   ],
   "source": [
    "#extract the relevant values\n",
    "js['rates']['2018-01-02']['INR']"
   ]
  },
  {
   "cell_type": "code",
   "execution_count": 67,
   "metadata": {},
   "outputs": [],
   "source": [
    "def converttoINR(row): \n",
    "    if row['currency'] == 'USD': \n",
    "        startdate = row['order_date']\n",
    "        enddate = datetime.strptime(startdate, '%Y-%m-%d') + timedelta(days=1)\n",
    "        enddate = enddate.strftime('%Y-%m-%d')\n",
    "\n",
    "        r = requests.get('https://api.exchangeratesapi.io/history?start_at={start}&end_at={end}&symbols=INR&base=USD'.format(start=startdate, end=enddate))\n",
    "        rate = json.loads(r.text)['rates'][startdate]['INR']\n",
    "        return row['sales_amount'] * rate\n",
    "    else: \n",
    "        return row['sales_amount']\n",
    "    "
   ]
  },
  {
   "cell_type": "code",
   "execution_count": 68,
   "metadata": {
    "scrolled": false
   },
   "outputs": [],
   "source": [
    "df['INR sales'] = df.apply(converttoINR, axis=1)"
   ]
  },
  {
   "cell_type": "code",
   "execution_count": 73,
   "metadata": {},
   "outputs": [],
   "source": [
    "df = df.drop(columns=['sales_amount', 'currency'])"
   ]
  },
  {
   "cell_type": "code",
   "execution_count": 75,
   "metadata": {},
   "outputs": [],
   "source": [
    "df.to_csv('transactions_cleaned.csv', index=False)"
   ]
  },
  {
   "cell_type": "code",
   "execution_count": null,
   "metadata": {},
   "outputs": [],
   "source": []
  }
 ],
 "metadata": {
  "kernelspec": {
   "display_name": "Python 3",
   "language": "python",
   "name": "python3"
  },
  "language_info": {
   "codemirror_mode": {
    "name": "ipython",
    "version": 3
   },
   "file_extension": ".py",
   "mimetype": "text/x-python",
   "name": "python",
   "nbconvert_exporter": "python",
   "pygments_lexer": "ipython3",
   "version": "3.8.5"
  }
 },
 "nbformat": 4,
 "nbformat_minor": 4
}
